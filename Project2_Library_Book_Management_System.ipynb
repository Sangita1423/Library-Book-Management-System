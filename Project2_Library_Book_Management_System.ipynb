{
 "cells": [
  {
   "cell_type": "code",
   "execution_count": 1,
   "id": "2b687f65",
   "metadata": {},
   "outputs": [],
   "source": [
    "from tkinter import *\n",
    "import sqlite3\n",
    "import tkinter.ttk as ttk\n",
    "import tkinter.messagebox as tkMessageBox\n"
   ]
  },
  {
   "cell_type": "code",
   "execution_count": 2,
   "id": "1d671660",
   "metadata": {},
   "outputs": [],
   "source": [
    "con = sqlite3.connect('library.db')\n",
    "cursorObj = con.cursor()"
   ]
  },
  {
   "cell_type": "code",
   "execution_count": 3,
   "id": "52b2d8d8",
   "metadata": {},
   "outputs": [
    {
     "data": {
      "text/plain": [
       "<sqlite3.Cursor at 0x2222578c340>"
      ]
     },
     "execution_count": 3,
     "metadata": {},
     "output_type": "execute_result"
    }
   ],
   "source": [
    "cursorObj.execute('CREATE TABLE IF NOT EXISTS book(title TEXT,author TEXT,year INTEGER)')"
   ]
  },
  {
   "cell_type": "code",
   "execution_count": 4,
   "id": "1943060c",
   "metadata": {},
   "outputs": [
    {
     "data": {
      "text/plain": [
       "<sqlite3.Cursor at 0x2222578c340>"
      ]
     },
     "execution_count": 4,
     "metadata": {},
     "output_type": "execute_result"
    }
   ],
   "source": [
    "cursorObj.execute('SELECT * FROM book')"
   ]
  },
  {
   "cell_type": "code",
   "execution_count": 5,
   "id": "ceca94ca",
   "metadata": {},
   "outputs": [],
   "source": [
    "def insert(t,a,y):\n",
    "    con = sqlite3.connect('library.db')\n",
    "    cursorObj = con.cursor()\n",
    "    cursorObj.execute('INSERT INTO book values(?,?,?)',(t,a,y))\n",
    "    con.commit()\n",
    "    con.close()"
   ]
  },
  {
   "cell_type": "code",
   "execution_count": 6,
   "id": "6f3a3d7c",
   "metadata": {},
   "outputs": [
    {
     "ename": "OperationalError",
     "evalue": "database is locked",
     "output_type": "error",
     "traceback": [
      "\u001b[1;31m---------------------------------------------------------------------------\u001b[0m",
      "\u001b[1;31mOperationalError\u001b[0m                          Traceback (most recent call last)",
      "\u001b[1;32m<ipython-input-6-fa4a21691001>\u001b[0m in \u001b[0;36m<module>\u001b[1;34m\u001b[0m\n\u001b[1;32m----> 1\u001b[1;33m \u001b[0minsert\u001b[0m\u001b[1;33m(\u001b[0m\u001b[1;34m'Shivaji Maharaj'\u001b[0m\u001b[1;33m,\u001b[0m\u001b[1;34m\"Shavaji Savant\"\u001b[0m\u001b[1;33m,\u001b[0m\u001b[1;36m1967\u001b[0m\u001b[1;33m)\u001b[0m\u001b[1;33m\u001b[0m\u001b[1;33m\u001b[0m\u001b[0m\n\u001b[0m",
      "\u001b[1;32m<ipython-input-5-f04c4b38583c>\u001b[0m in \u001b[0;36minsert\u001b[1;34m(t, a, y)\u001b[0m\n\u001b[0;32m      3\u001b[0m     \u001b[0mcursorObj\u001b[0m \u001b[1;33m=\u001b[0m \u001b[0mcon\u001b[0m\u001b[1;33m.\u001b[0m\u001b[0mcursor\u001b[0m\u001b[1;33m(\u001b[0m\u001b[1;33m)\u001b[0m\u001b[1;33m\u001b[0m\u001b[1;33m\u001b[0m\u001b[0m\n\u001b[0;32m      4\u001b[0m     \u001b[0mcursorObj\u001b[0m\u001b[1;33m.\u001b[0m\u001b[0mexecute\u001b[0m\u001b[1;33m(\u001b[0m\u001b[1;34m'INSERT INTO book values(?,?,?)'\u001b[0m\u001b[1;33m,\u001b[0m\u001b[1;33m(\u001b[0m\u001b[0mt\u001b[0m\u001b[1;33m,\u001b[0m\u001b[0ma\u001b[0m\u001b[1;33m,\u001b[0m\u001b[0my\u001b[0m\u001b[1;33m)\u001b[0m\u001b[1;33m)\u001b[0m\u001b[1;33m\u001b[0m\u001b[1;33m\u001b[0m\u001b[0m\n\u001b[1;32m----> 5\u001b[1;33m     \u001b[0mcon\u001b[0m\u001b[1;33m.\u001b[0m\u001b[0mcommit\u001b[0m\u001b[1;33m(\u001b[0m\u001b[1;33m)\u001b[0m\u001b[1;33m\u001b[0m\u001b[1;33m\u001b[0m\u001b[0m\n\u001b[0m\u001b[0;32m      6\u001b[0m     \u001b[0mcon\u001b[0m\u001b[1;33m.\u001b[0m\u001b[0mclose\u001b[0m\u001b[1;33m(\u001b[0m\u001b[1;33m)\u001b[0m\u001b[1;33m\u001b[0m\u001b[1;33m\u001b[0m\u001b[0m\n",
      "\u001b[1;31mOperationalError\u001b[0m: database is locked"
     ]
    }
   ],
   "source": [
    "insert('Shivaji Maharaj',\"Shavaji Savant\",1967)"
   ]
  },
  {
   "cell_type": "code",
   "execution_count": null,
   "id": "434b62f6",
   "metadata": {},
   "outputs": [],
   "source": [
    "def create_table():\n",
    "    con = sqlite3.connect('library.db')\n",
    "    cur = con.cursor()\n",
    "    cur.execute('CREATE TABLE IF NOT EXISTS book(title TEXT,author TEXT,year INTEGER)')\n",
    "    con.commit()\n",
    "    con.close()"
   ]
  },
  {
   "cell_type": "code",
   "execution_count": null,
   "id": "a55c0e7a",
   "metadata": {},
   "outputs": [],
   "source": [
    "create_table()"
   ]
  },
  {
   "cell_type": "code",
   "execution_count": null,
   "id": "3812a89b",
   "metadata": {},
   "outputs": [],
   "source": [
    "def view():\n",
    "    con = sqlite3.connect('library.db')\n",
    "    cur = con.cursor()\n",
    "    cur.execute('SELECT * FROM book')\n",
    "    rows = cur.fetchall()\n",
    "    con.close()\n",
    "    return rows"
   ]
  },
  {
   "cell_type": "code",
   "execution_count": null,
   "id": "60f8924f",
   "metadata": {},
   "outputs": [],
   "source": [
    "view()"
   ]
  },
  {
   "cell_type": "code",
   "execution_count": null,
   "id": "3abcd2aa",
   "metadata": {},
   "outputs": [],
   "source": [
    "insert(\"Mahabharat\",\"Vyas Muni\",1630)"
   ]
  },
  {
   "cell_type": "code",
   "execution_count": null,
   "id": "b584f44b",
   "metadata": {},
   "outputs": [],
   "source": [
    "insert(\"Ramaran\",\"Valmiki\",1600)"
   ]
  },
  {
   "cell_type": "code",
   "execution_count": null,
   "id": "2b9b16de",
   "metadata": {},
   "outputs": [],
   "source": [
    "insert(\"Dynaneshwari\",\"Sant Dynaneshwar\",1700)"
   ]
  },
  {
   "cell_type": "code",
   "execution_count": null,
   "id": "609a80f7",
   "metadata": {},
   "outputs": [],
   "source": [
    "insert(\"Dasbodh\",\"Ramdas Swami\",1800)"
   ]
  },
  {
   "cell_type": "code",
   "execution_count": null,
   "id": "621df023",
   "metadata": {},
   "outputs": [],
   "source": [
    "view()"
   ]
  },
  {
   "cell_type": "code",
   "execution_count": null,
   "id": "ee745c3a",
   "metadata": {},
   "outputs": [],
   "source": []
  },
  {
   "cell_type": "code",
   "execution_count": null,
   "id": "4bf1f93f",
   "metadata": {},
   "outputs": [],
   "source": []
  },
  {
   "cell_type": "code",
   "execution_count": null,
   "id": "a0b4a7be",
   "metadata": {
    "scrolled": true
   },
   "outputs": [],
   "source": [
    "root = Tk()\n",
    "root.title('Library Book Management System')"
   ]
  },
  {
   "cell_type": "code",
   "execution_count": null,
   "id": "1deedfd6",
   "metadata": {},
   "outputs": [],
   "source": [
    "\n",
    "        \n",
    "def Exit():\n",
    "    result = tkMessageBox.askquestions('Do you want to Exit ? (y/n)',icon = 'warning')\n",
    "    if result == 'yes':\n",
    "        root.destroy()\n",
    "        exit()"
   ]
  },
  {
   "cell_type": "code",
   "execution_count": null,
   "id": "3ea3ed8f",
   "metadata": {},
   "outputs": [],
   "source": [
    "TITLE = StringVar()\n",
    "AUTHOR = StringVar()\n",
    "YEAR = StringVar()"
   ]
  },
  {
   "cell_type": "code",
   "execution_count": null,
   "id": "ca07b8a5",
   "metadata": {},
   "outputs": [],
   "source": [
    "Top = Frame(root, width=900, height=50, bd=8, relief= 'raise')\n",
    "Top.pack(side=TOP)\n",
    "Left = Frame(root, width=300, height=500, bd=8, relief= 'raise')\n",
    "Left.pack(side=LEFT)\n",
    "Right = Frame(root, width=600, height=500, bd=8, relief= 'raise')\n",
    "Right.pack(side=RIGHT)\n",
    "\n",
    "Forms = Frame(Left,width=300,height=450)\n",
    "Forms.pack(side=TOP)\n",
    "\n",
    "Buttons=Frame(Left, width=300, height=100, bd=8, relief='raise')\n",
    "Buttons.pack(side=BOTTOM)\n",
    "\n",
    "#RadioGroup=Frame(Forms)\n",
    "#Male=Radiobutton(RadioGroup,text='Male',variable=GENDER,value='Male').pack(side= LEFT)\n",
    "#Female=Radiobutton(RadioGroup,text='Female',variable=GENDER,value='Female').pack(side= LEFT)"
   ]
  },
  {
   "cell_type": "code",
   "execution_count": null,
   "id": "56e88656",
   "metadata": {},
   "outputs": [],
   "source": [
    "txt_heading = Label(Top,width=900,font=('arial',24), text='Library Book Management System')\n",
    "txt_heading.pack()\n",
    "txt_title = Label(Forms, text='Title:', font=('arial',16), bd=15) \n",
    "txt_title.grid(row=0,stick='e')\n",
    "txt_author = Label(Forms, text='Author:', font=('arial',16), bd=15) \n",
    "txt_author.grid(row=1,stick='e')\n",
    "txt_year = Label(Forms, text='Year of Publication:', font=('arial',16), bd=15) \n",
    "txt_year.grid(row=2,stick='e')\n",
    "\n",
    "txt_result = Label(Buttons)\n",
    "txt_result.pack(side=TOP)\n"
   ]
  },
  {
   "cell_type": "code",
   "execution_count": null,
   "id": "072720c8",
   "metadata": {},
   "outputs": [],
   "source": [
    "# ENTRY WIDGET\n",
    "title = Entry(Forms, textvariable=TITLE, width=30)\n",
    "title.grid(row=0, column=1)\n",
    "author = Entry(Forms, textvariable=AUTHOR, width=30)\n",
    "author.grid(row=1, column=1)\n",
    "#RadioGroup.grid(row=2,column=1)\n",
    "year= Entry(Forms, textvariable=YEAR, width=30)\n",
    "year.grid(row=3, column=1)\n"
   ]
  },
  {
   "cell_type": "code",
   "execution_count": null,
   "id": "544eb3ae",
   "metadata": {},
   "outputs": [],
   "source": [
    "btn_display = Button(Buttons, width=10, text=\"Display\", command=display)\n",
    "btn_display.pack(side=LEFT)\n",
    "btn_search = Button(Buttons, width=10, text=\"Search\", command=DISABLED)\n",
    "btn_search.pack(side=LEFT)\n",
    "btn_add = Button(Buttons, width=10, text=\"Add\", command=lambda:)\n",
    "btn_add.pack(side=LEFT)\n",
    "btn_issue = Button(Buttons, width=10, text=\"Issue\", command=DISABLED)\n",
    "btn_issue.pack(side=LEFT)\n",
    "btn_delete = Button(Buttons, width=10, text=\"Delete\", command=DISABLED)\n",
    "btn_delete.pack(side=LEFT)\n",
    "btn_exit = Button(Buttons, width=10, text=\"Exit\", command=Exit)\n",
    "btn_exit.pack(side=LEFT)\n"
   ]
  },
  {
   "cell_type": "code",
   "execution_count": null,
   "id": "55181083",
   "metadata": {},
   "outputs": [],
   "source": [
    "scrollbary = Scrollbar(Right, orient=VERTICAL)\n",
    "scrollbarx = Scrollbar(Right, orient=HORIZONTAL)\n",
    "\n",
    "tree = ttk.Treeview(Right, columns=('Title','Author','Year'))\n",
    "\n",
    "scrollbary.config(command=tree.yview)\n",
    "scrollbary.pack(side=RIGHT,fill=Y)\n",
    "scrollbarx.config(command=tree.xview)\n",
    "scrollbarx.pack(side=BOTTOM,fill=X)\n",
    "tree.heading('Title', text='Title', anchor=W)\n",
    "tree.heading('Author', text='Author',anchor=W)\n",
    "tree.heading('Year', text='Year',anchor=W)\n",
    "\n",
    "\n",
    "tree.column('#0', stretch=NO, minwidth=0, width=0)\n",
    "tree.column('#1', stretch=NO, minwidth=0, width=80)\n",
    "tree.column('#2', stretch=NO, minwidth=0, width=120)\n",
    "\n",
    "tree.pack()"
   ]
  },
  {
   "cell_type": "code",
   "execution_count": null,
   "id": "58848675",
   "metadata": {},
   "outputs": [],
   "source": [
    "if __name__ == '__main__':\n",
    "    root.mainloop()"
   ]
  },
  {
   "cell_type": "code",
   "execution_count": null,
   "id": "cab0885b",
   "metadata": {},
   "outputs": [],
   "source": []
  },
  {
   "cell_type": "code",
   "execution_count": null,
   "id": "b74982a0",
   "metadata": {},
   "outputs": [],
   "source": []
  },
  {
   "cell_type": "code",
   "execution_count": null,
   "id": "4bf5f2ff",
   "metadata": {},
   "outputs": [],
   "source": []
  },
  {
   "cell_type": "code",
   "execution_count": null,
   "id": "14b277d9",
   "metadata": {},
   "outputs": [],
   "source": []
  },
  {
   "cell_type": "code",
   "execution_count": null,
   "id": "c34c0755",
   "metadata": {},
   "outputs": [],
   "source": []
  },
  {
   "cell_type": "code",
   "execution_count": null,
   "id": "b50cbe29",
   "metadata": {},
   "outputs": [],
   "source": []
  }
 ],
 "metadata": {
  "kernelspec": {
   "display_name": "Python 3",
   "language": "python",
   "name": "python3"
  },
  "language_info": {
   "codemirror_mode": {
    "name": "ipython",
    "version": 3
   },
   "file_extension": ".py",
   "mimetype": "text/x-python",
   "name": "python",
   "nbconvert_exporter": "python",
   "pygments_lexer": "ipython3",
   "version": "3.8.8"
  }
 },
 "nbformat": 4,
 "nbformat_minor": 5
}
